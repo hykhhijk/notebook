{
 "cells": [
  {
   "cell_type": "markdown",
   "metadata": {},
   "source": [
    "# Decorators"
   ]
  },
  {
   "cell_type": "code",
   "execution_count": 16,
   "metadata": {},
   "outputs": [],
   "source": [
    "class Employee:\n",
    "\n",
    "    def __init__(self, first, last, pay):\n",
    "        self.first = first  # same with this [emp_1.first = \"Kim\"]\n",
    "        self.last = last\n",
    "        self.pay = pay\n",
    "        self.email = first+\".\"+\"@bla.com\"\n",
    "\n",
    "    def fullname(self):     #all method get instance as first argument\n",
    "        return \"{} {}\".format(self.first, self.last)\n"
   ]
  },
  {
   "cell_type": "code",
   "execution_count": 17,
   "metadata": {},
   "outputs": [],
   "source": [
    "emp_1 = Employee(\"Kim\", \"yonghee\",5000)\n",
    "emp_2 = Employee(\"Test\",\"User\",500000000)"
   ]
  },
  {
   "cell_type": "code",
   "execution_count": 18,
   "metadata": {},
   "outputs": [
    {
     "name": "stdout",
     "output_type": "stream",
     "text": [
      "Kim\n",
      "Kim.@bla.com\n",
      "Kim yonghee\n"
     ]
    }
   ],
   "source": [
    "print(emp_1.first)\n",
    "print(emp_1.email)\n",
    "print(emp_1.fullname())\n"
   ]
  },
  {
   "cell_type": "code",
   "execution_count": 19,
   "metadata": {},
   "outputs": [],
   "source": [
    "emp_1.first = \"Park\""
   ]
  },
  {
   "cell_type": "code",
   "execution_count": 20,
   "metadata": {},
   "outputs": [
    {
     "name": "stdout",
     "output_type": "stream",
     "text": [
      "Park\n",
      "Kim.@bla.com\n",
      "Park yonghee\n"
     ]
    }
   ],
   "source": [
    "print(emp_1.first)\n",
    "print(emp_1.email)\n",
    "print(emp_1.fullname())"
   ]
  },
  {
   "cell_type": "code",
   "execution_count": 28,
   "metadata": {},
   "outputs": [],
   "source": [
    "class Employee:\n",
    "\n",
    "    def __init__(self, first, last, pay):\n",
    "        self.first = first  # same with this [emp_1.first = \"Kim\"]\n",
    "        self.last = last\n",
    "        self.pay = pay\n",
    "\n",
    "    def fullname(self):     #all method get instance as first argument\n",
    "        return \"{} {}\".format(self.first, self.last)\n",
    "    \n",
    "    #define method access like an attribute\n",
    "    def email(self):     #all method get instance as first argument\n",
    "        return \"{}.{}@email.com\".format(self.first, self.last)"
   ]
  },
  {
   "cell_type": "code",
   "execution_count": 29,
   "metadata": {},
   "outputs": [],
   "source": [
    "emp_1 = Employee(\"Kim\", \"yonghee\",5000)\n",
    "emp_2 = Employee(\"Test\",\"User\",500000000)"
   ]
  },
  {
   "cell_type": "code",
   "execution_count": 30,
   "metadata": {},
   "outputs": [],
   "source": [
    "emp_1.first = \"Park\""
   ]
  },
  {
   "cell_type": "code",
   "execution_count": 31,
   "metadata": {},
   "outputs": [
    {
     "name": "stdout",
     "output_type": "stream",
     "text": [
      "Park\n",
      "<bound method Employee.email of <__main__.Employee object at 0x7f64dc0fb730>>\n",
      "Park.yonghee@email.com\n",
      "Park yonghee\n"
     ]
    }
   ],
   "source": [
    "print(emp_1.first)\n",
    "print(emp_1.email)      #method로 바꿔버리면 모든 기능 다 바꿔야함\n",
    "print(emp_1.email())\n",
    "print(emp_1.fullname())"
   ]
  },
  {
   "cell_type": "code",
   "execution_count": 32,
   "metadata": {},
   "outputs": [],
   "source": [
    "class Employee:\n",
    "\n",
    "    def __init__(self, first, last, pay):\n",
    "        self.first = first  # same with this [emp_1.first = \"Kim\"]\n",
    "        self.last = last\n",
    "        self.pay = pay\n",
    "\n",
    "    def fullname(self):     #all method get instance as first argument\n",
    "        return \"{} {}\".format(self.first, self.last)\n",
    "    \n",
    "    @property              #define method access like an attribute\n",
    "    def email(self):     #all method get instance as first argument\n",
    "        return \"{}.{}@email.com\".format(self.first, self.last)"
   ]
  },
  {
   "cell_type": "code",
   "execution_count": 33,
   "metadata": {},
   "outputs": [],
   "source": [
    "emp_1 = Employee(\"Kim\", \"yonghee\",5000)\n",
    "emp_2 = Employee(\"Test\",\"User\",500000000)\n",
    "\n",
    "emp_1.first = \"Park\""
   ]
  },
  {
   "cell_type": "code",
   "execution_count": 36,
   "metadata": {},
   "outputs": [
    {
     "name": "stdout",
     "output_type": "stream",
     "text": [
      "Park\n",
      "Park.yonghee@email.com\n",
      "Park yonghee\n"
     ]
    }
   ],
   "source": [
    "print(emp_1.first)\n",
    "print(emp_1.email)\n",
    "print(emp_1.fullname())"
   ]
  },
  {
   "cell_type": "code",
   "execution_count": null,
   "metadata": {},
   "outputs": [],
   "source": []
  }
 ],
 "metadata": {
  "kernelspec": {
   "display_name": "ag",
   "language": "python",
   "name": "python3"
  },
  "language_info": {
   "codemirror_mode": {
    "name": "ipython",
    "version": 3
   },
   "file_extension": ".py",
   "mimetype": "text/x-python",
   "name": "python",
   "nbconvert_exporter": "python",
   "pygments_lexer": "ipython3",
   "version": "3.10.13"
  }
 },
 "nbformat": 4,
 "nbformat_minor": 2
}
